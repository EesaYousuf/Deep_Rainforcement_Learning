{
 "cells": [
  {
   "cell_type": "markdown",
   "id": "0cb52799",
   "metadata": {},
   "source": [
    "Q-Learning Code"
   ]
  },
  {
   "cell_type": "code",
   "execution_count": 1,
   "id": "51e316f9",
   "metadata": {},
   "outputs": [],
   "source": [
    "import gym\n",
    "import numpy as np\n",
    "import matplotlib.pyplot as plt\n",
    "\n",
    "env = gym.make(\"MountainCar-v0\")\n"
   ]
  },
  {
   "cell_type": "code",
   "execution_count": 2,
   "id": "adc1ff83",
   "metadata": {},
   "outputs": [],
   "source": [
    "# Discretization settings\n",
    "n_bins = 20\n",
    "obs_space_size = [n_bins] * len(env.observation_space.high)\n",
    "obs_high = env.observation_space.high\n",
    "obs_low = env.observation_space.low\n",
    "obs_bin_width = (obs_high - obs_low) / obs_space_size"
   ]
  },
  {
   "cell_type": "code",
   "execution_count": 3,
   "id": "e14e76c1",
   "metadata": {},
   "outputs": [],
   "source": [
    "# Q-table\n",
    "q_table = np.random.uniform(low=-1, high=1, size=(obs_space_size + [env.action_space.n]))\n"
   ]
  }
 ],
 "metadata": {
  "kernelspec": {
   "display_name": "base",
   "language": "python",
   "name": "python3"
  },
  "language_info": {
   "codemirror_mode": {
    "name": "ipython",
    "version": 3
   },
   "file_extension": ".py",
   "mimetype": "text/x-python",
   "name": "python",
   "nbconvert_exporter": "python",
   "pygments_lexer": "ipython3",
   "version": "3.12.7"
  }
 },
 "nbformat": 4,
 "nbformat_minor": 5
}
