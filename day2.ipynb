{
 "cells": [
  {
   "cell_type": "markdown",
   "id": "0cb52799",
   "metadata": {},
   "source": [
    "Q-Learning Code"
   ]
  },
  {
   "cell_type": "code",
   "execution_count": 1,
   "id": "51e316f9",
   "metadata": {},
   "outputs": [],
   "source": [
    "import gym\n",
    "import numpy as np\n",
    "import matplotlib.pyplot as plt\n",
    "\n",
    "env = gym.make(\"MountainCar-v0\")\n"
   ]
  },
  {
   "cell_type": "code",
   "execution_count": 2,
   "id": "adc1ff83",
   "metadata": {},
   "outputs": [],
   "source": [
    "# Discretization settings\n",
    "n_bins = 20\n",
    "obs_space_size = [n_bins] * len(env.observation_space.high)\n",
    "obs_high = env.observation_space.high\n",
    "obs_low = env.observation_space.low\n",
    "obs_bin_width = (obs_high - obs_low) / obs_space_size"
   ]
  },
  {
   "cell_type": "code",
   "execution_count": 3,
   "id": "e14e76c1",
   "metadata": {},
   "outputs": [],
   "source": [
    "# Q-table\n",
    "q_table = np.random.uniform(low=-1, high=1, size=(obs_space_size + [env.action_space.n]))\n"
   ]
  },
  {
   "cell_type": "code",
   "execution_count": 4,
   "id": "b3417d4b",
   "metadata": {},
   "outputs": [],
   "source": [
    "\n",
    "# Hyperparameters\n",
    "alpha = 0.1\n",
    "gamma = 0.99\n",
    "epsilon = 1.0\n",
    "epsilon_decay = 0.995\n",
    "min_epsilon = 0.01\n",
    "episodes = 5000\n",
    "rewards = []\n",
    "\n",
    "def get_discrete_state(state):\n",
    "    discrete = (state - obs_low) / obs_bin_width\n",
    "    return tuple(np.floor(discrete).astype(int))"
   ]
  },
  {
   "cell_type": "code",
   "execution_count": 7,
   "id": "30c89e3b",
   "metadata": {},
   "outputs": [],
   "source": [
    "# Training loop\n",
    "for episode in range(episodes):\n",
    "    state = env.reset()[0]\n",
    "    discrete_state = get_discrete_state(state)\n",
    "    total_reward = 0\n",
    "\n",
    "    done = False\n"
   ]
  },
  {
   "cell_type": "code",
   "execution_count": 8,
   "id": "9343816e",
   "metadata": {},
   "outputs": [
    {
     "name": "stderr",
     "output_type": "stream",
     "text": [
      "c:\\Users\\HP\\anaconda3\\Lib\\site-packages\\gym\\utils\\passive_env_checker.py:233: DeprecationWarning: `np.bool8` is a deprecated alias for `np.bool_`.  (Deprecated NumPy 1.24)\n",
      "  if not isinstance(terminated, (bool, np.bool8)):\n"
     ]
    }
   ],
   "source": [
    "    while not done:\n",
    "        # Epsilon-greedy action\n",
    "        if np.random.rand() < epsilon:\n",
    "            action = env.action_space.sample()\n",
    "        else:\n",
    "            action = np.argmax(q_table[discrete_state])\n",
    "\n",
    "        next_state, reward, done, _, _ = env.step(action)\n",
    "        next_discrete_state = get_discrete_state"
   ]
  }
 ],
 "metadata": {
  "kernelspec": {
   "display_name": "base",
   "language": "python",
   "name": "python3"
  },
  "language_info": {
   "codemirror_mode": {
    "name": "ipython",
    "version": 3
   },
   "file_extension": ".py",
   "mimetype": "text/x-python",
   "name": "python",
   "nbconvert_exporter": "python",
   "pygments_lexer": "ipython3",
   "version": "3.12.7"
  }
 },
 "nbformat": 4,
 "nbformat_minor": 5
}
