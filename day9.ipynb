{
 "cells": [
  {
   "cell_type": "markdown",
   "id": "d075b3b4",
   "metadata": {},
   "source": [
    "Episode in Reinforcement Learning"
   ]
  },
  {
   "cell_type": "code",
   "execution_count": 1,
   "id": "33fc6971",
   "metadata": {},
   "outputs": [],
   "source": [
    "import random\n",
    "\n",
    "class SimpleEnvironment:\n",
    "    def __init__(self):\n",
    "        self.state = 0\n",
    "        self.terminal_state = 5\n",
    "\n",
    "    def reset(self):\n",
    "        self.state = 0\n",
    "        return self.state\n",
    "\n",
    "    def step(self, action):\n",
    "        # Action: +1 moves forward, -1 moves backward\n",
    "        self.state += action\n",
    "        reward = 1 if self.state == self.terminal_state else -0.1\n",
    "        done = self.state == self.terminal_state\n",
    "        return self.state, reward, done"
   ]
  },
  {
   "cell_type": "code",
   "execution_count": 2,
   "id": "650b4a57",
   "metadata": {},
   "outputs": [],
   "source": [
    "# Agent policy: randomly choose action\n",
    "def agent_policy():\n",
    "    return random.choice([1, -1])\n"
   ]
  },
  {
   "cell_type": "code",
   "execution_count": null,
   "id": "c31597da",
   "metadata": {},
   "outputs": [],
   "source": []
  }
 ],
 "metadata": {
  "kernelspec": {
   "display_name": "base",
   "language": "python",
   "name": "python3"
  },
  "language_info": {
   "codemirror_mode": {
    "name": "ipython",
    "version": 3
   },
   "file_extension": ".py",
   "mimetype": "text/x-python",
   "name": "python",
   "nbconvert_exporter": "python",
   "pygments_lexer": "ipython3",
   "version": "3.12.7"
  }
 },
 "nbformat": 4,
 "nbformat_minor": 5
}
