{
 "cells": [
  {
   "cell_type": "markdown",
   "id": "d075b3b4",
   "metadata": {},
   "source": [
    "Episode in Reinforcement Learning"
   ]
  },
  {
   "cell_type": "code",
   "execution_count": 1,
   "id": "33fc6971",
   "metadata": {},
   "outputs": [],
   "source": [
    "import random\n",
    "\n",
    "class SimpleEnvironment:\n",
    "    def __init__(self):\n",
    "        self.state = 0\n",
    "        self.terminal_state = 5\n",
    "\n",
    "    def reset(self):\n",
    "        self.state = 0\n",
    "        return self.state\n",
    "\n",
    "    def step(self, action):\n",
    "        # Action: +1 moves forward, -1 moves backward\n",
    "        self.state += action\n",
    "        reward = 1 if self.state == self.terminal_state else -0.1\n",
    "        done = self.state == self.terminal_state\n",
    "        return self.state, reward, done"
   ]
  },
  {
   "cell_type": "code",
   "execution_count": 2,
   "id": "650b4a57",
   "metadata": {},
   "outputs": [],
   "source": [
    "# Agent policy: randomly choose action\n",
    "def agent_policy():\n",
    "    return random.choice([1, -1])\n"
   ]
  },
  {
   "cell_type": "code",
   "execution_count": 4,
   "id": "c31597da",
   "metadata": {},
   "outputs": [
    {
     "name": "stdout",
     "output_type": "stream",
     "text": [
      "Episode started\n",
      "State: 0 -> Action: 1 -> Next: 1, Reward: -0.1\n",
      "State: 1 -> Action: 1 -> Next: 2, Reward: -0.1\n",
      "State: 2 -> Action: -1 -> Next: 1, Reward: -0.1\n",
      "State: 1 -> Action: 1 -> Next: 2, Reward: -0.1\n",
      "State: 2 -> Action: -1 -> Next: 1, Reward: -0.1\n",
      "State: 1 -> Action: -1 -> Next: 0, Reward: -0.1\n",
      "State: 0 -> Action: 1 -> Next: 1, Reward: -0.1\n",
      "State: 1 -> Action: -1 -> Next: 0, Reward: -0.1\n",
      "State: 0 -> Action: -1 -> Next: -1, Reward: -0.1\n",
      "State: -1 -> Action: -1 -> Next: -2, Reward: -0.1\n",
      "State: -2 -> Action: -1 -> Next: -3, Reward: -0.1\n",
      "State: -3 -> Action: 1 -> Next: -2, Reward: -0.1\n",
      "State: -2 -> Action: 1 -> Next: -1, Reward: -0.1\n",
      "State: -1 -> Action: 1 -> Next: 0, Reward: -0.1\n",
      "State: 0 -> Action: 1 -> Next: 1, Reward: -0.1\n",
      "State: 1 -> Action: -1 -> Next: 0, Reward: -0.1\n",
      "State: 0 -> Action: -1 -> Next: -1, Reward: -0.1\n",
      "State: -1 -> Action: 1 -> Next: 0, Reward: -0.1\n",
      "State: 0 -> Action: -1 -> Next: -1, Reward: -0.1\n",
      "State: -1 -> Action: 1 -> Next: 0, Reward: -0.1\n",
      "State: 0 -> Action: 1 -> Next: 1, Reward: -0.1\n",
      "State: 1 -> Action: 1 -> Next: 2, Reward: -0.1\n",
      "State: 2 -> Action: 1 -> Next: 3, Reward: -0.1\n",
      "State: 3 -> Action: -1 -> Next: 2, Reward: -0.1\n",
      "State: 2 -> Action: 1 -> Next: 3, Reward: -0.1\n",
      "State: 3 -> Action: 1 -> Next: 4, Reward: -0.1\n",
      "State: 4 -> Action: 1 -> Next: 5, Reward: 1\n",
      "Episode finished with total reward: -1.600000000000001\n"
     ]
    }
   ],
   "source": [
    "# Run one episode\n",
    "env = SimpleEnvironment()\n",
    "state = env.reset()\n",
    "done = False\n",
    "total_reward = 0\n",
    "\n",
    "print(\"Episode started\")\n",
    "while not done:\n",
    "    action = agent_policy()\n",
    "    next_state, reward, done = env.step(action)\n",
    "    total_reward += reward\n",
    "    print(f\"State: {state} -> Action: {action} -> Next: {next_state}, Reward: {reward}\")\n",
    "    state = next_state\n",
    "\n",
    "print(\"Episode finished with total reward:\", total_reward)"
   ]
  },
  {
   "cell_type": "code",
   "execution_count": null,
   "id": "ac98b72b",
   "metadata": {},
   "outputs": [],
   "source": []
  }
 ],
 "metadata": {
  "kernelspec": {
   "display_name": "base",
   "language": "python",
   "name": "python3"
  },
  "language_info": {
   "codemirror_mode": {
    "name": "ipython",
    "version": 3
   },
   "file_extension": ".py",
   "mimetype": "text/x-python",
   "name": "python",
   "nbconvert_exporter": "python",
   "pygments_lexer": "ipython3",
   "version": "3.12.7"
  }
 },
 "nbformat": 4,
 "nbformat_minor": 5
}
