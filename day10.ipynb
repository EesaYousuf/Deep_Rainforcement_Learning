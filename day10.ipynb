{
 "cells": [
  {
   "cell_type": "code",
   "execution_count": 1,
   "id": "5b743754",
   "metadata": {},
   "outputs": [],
   "source": [
    "import numpy as np\n",
    "\n",
    "# States: 0 = A, 1 = B\n",
    "# Actions: 0 = Left, 1 = Right\n",
    "gamma = 0.9  # discount factor\n"
   ]
  },
  {
   "cell_type": "code",
   "execution_count": 2,
   "id": "89ad36de",
   "metadata": {},
   "outputs": [],
   "source": [
    "# Transition probabilities and rewards\n",
    "# P[s][a] = list of (probability, next_state, reward)\n",
    "P = {\n",
    "    0: {  # State A\n",
    "        0: [(1.0, 0, 0)],        # Left -> Stay in A\n",
    "        1: [(1.0, 1, 1)]         # Right -> Go to B, reward = 1\n",
    "    },\n",
    "    1: {  # State B\n",
    "        0: [(1.0, 0, 2)],        # Left -> Go to A, reward = 2\n",
    "        1: [(1.0, 1, 0)]         # Right -> Stay in B\n",
    "    }\n",
    "}"
   ]
  }
 ],
 "metadata": {
  "kernelspec": {
   "display_name": "base",
   "language": "python",
   "name": "python3"
  },
  "language_info": {
   "codemirror_mode": {
    "name": "ipython",
    "version": 3
   },
   "file_extension": ".py",
   "mimetype": "text/x-python",
   "name": "python",
   "nbconvert_exporter": "python",
   "pygments_lexer": "ipython3",
   "version": "3.12.7"
  }
 },
 "nbformat": 4,
 "nbformat_minor": 5
}
