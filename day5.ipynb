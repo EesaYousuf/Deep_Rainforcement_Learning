{
 "cells": [
  {
   "cell_type": "code",
   "execution_count": 1,
   "id": "1e141534",
   "metadata": {},
   "outputs": [],
   "source": [
    "from __future__ import annotations\n",
    "from dataclasses import dataclass, field\n",
    "from typing import Any, Dict, List, Tuple, Optional, Iterable\n",
    "import math\n",
    "import random\n",
    "import statistics\n",
    "import itertools\n"
   ]
  },
  {
   "cell_type": "code",
   "execution_count": 2,
   "id": "27cb55e1",
   "metadata": {},
   "outputs": [],
   "source": [
    "class Environment:\n",
    "    \"\"\"\n",
    "    Abstract Environment.\n",
    "    - state: representation of the current situation (S_t)\n",
    "    - action: decision taken by the agent (A_t)\n",
    "    - reward: scalar feedback from env (R_{t+1})\n",
    "    - transition function: P(s', r | s, a) -- implemented via step()\n",
    "    \"\"\"\n",
    "    def reset(self) -> Any:\n",
    "        \"\"\"Start a new episode: returns initial state s0.\"\"\"\n",
    "        raise NotImplementedError\n",
    "\n",
    "    def step(self, action: Any) -> Tuple[Any, float, bool, Dict]:\n",
    "        \"\"\"\n",
    "        Take action in current state.\n",
    "        Returns: (next_state, reward, done, info)\n",
    "        - done indicates episode termination\n",
    "        - this embodies the transition function and reward function\n",
    "        \"\"\"\n",
    "        raise NotImplementedError\n",
    "\n",
    "    def action_space(self) -> Iterable[Any]:\n",
    "    \n",
    "        \"\"\"Available actions in the current state (or a fixed set).\"\"\"\n",
    "        raise NotImplementedError\n",
    "\n",
    "\n",
    "class Agent:\n",
    "    \"\"\"\n",
    "    Abstract Agent mapping states to actions.\n",
    "    - policy π(a|s) implemented by act(state)\n",
    "    - may update internal knowledge by observe(...)\n",
    "    \"\"\"\n",
    "    def act(self, state: Any) -> Any:\n",
    "        raise NotImplementedError\n",
    "\n",
    "    def observe(self, s: Any, a: Any, r: float, s_next: Any, done: bool):\n",
    "        \"\"\"Learning update after each transition.\"\"\"\n",
    "        pass\n",
    "\n"
   ]
  }
 ],
 "metadata": {
  "kernelspec": {
   "display_name": "base",
   "language": "python",
   "name": "python3"
  },
  "language_info": {
   "codemirror_mode": {
    "name": "ipython",
    "version": 3
   },
   "file_extension": ".py",
   "mimetype": "text/x-python",
   "name": "python",
   "nbconvert_exporter": "python",
   "pygments_lexer": "ipython3",
   "version": "3.12.7"
  }
 },
 "nbformat": 4,
 "nbformat_minor": 5
}
