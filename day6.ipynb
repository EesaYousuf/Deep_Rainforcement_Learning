{
 "cells": [
  {
   "cell_type": "markdown",
   "id": "d212a470",
   "metadata": {},
   "source": [
    "Example 1: Deterministic Transition Function\n",
    "\n",
    " the next state is fixed (probability = 1)."
   ]
  },
  {
   "cell_type": "code",
   "execution_count": 1,
   "id": "3e0128c4",
   "metadata": {},
   "outputs": [],
   "source": [
    "# Deterministic Transition Function\n",
    "def transition_function_deterministic(state, action):\n",
    "    \"\"\"\n",
    "    Example deterministic transition:\n",
    "    - If action is \"right\", increase state by 1\n",
    "    - If action is \"left\", decrease state by 1\n",
    "    \"\"\"\n",
    "    if action == \"right\":\n",
    "        return state + 1\n",
    "    elif action == \"left\":\n",
    "        return state - 1\n",
    "    else:\n",
    "        return state  # No change for invalid actions"
   ]
  },
  {
   "cell_type": "code",
   "execution_count": 2,
   "id": "189c1269",
   "metadata": {},
   "outputs": [
    {
     "name": "stdout",
     "output_type": "stream",
     "text": [
      "Current State: 5\n",
      "Next State after 'right': 6\n",
      "Next State after 'left': 4\n"
     ]
    }
   ],
   "source": [
    "\n",
    "\n",
    "# Example\n",
    "state = 5\n",
    "print(\"Current State:\", state)\n",
    "print(\"Next State after 'right':\", transition_function_deterministic(state, \"right\"))\n",
    "print(\"Next State after 'left':\", transition_function_deterministic(state, \"left\"))"
   ]
  },
  {
   "cell_type": "markdown",
   "id": "5beac22c",
   "metadata": {},
   "source": [
    "Example 2: Stochastic Transition Function\n",
    "\n",
    "the next state is chosen probabilistically."
   ]
  },
  {
   "cell_type": "code",
   "execution_count": 3,
   "id": "1cbe6e54",
   "metadata": {},
   "outputs": [],
   "source": [
    "import random\n",
    "\n",
    "# Stochastic Transition Function\n",
    "def transition_function_stochastic(state, action):\n",
    "    \"\"\"\n",
    "    Example stochastic transition:\n",
    "    - If action is \"right\", 80% chance to move right, 20% chance to stay.\n",
    "    - If action is \"left\", 80% chance to move left, 20% chance to stay.\n",
    "    \"\"\"\n",
    "    prob = random.random()"
   ]
  }
 ],
 "metadata": {
  "kernelspec": {
   "display_name": "base",
   "language": "python",
   "name": "python3"
  },
  "language_info": {
   "codemirror_mode": {
    "name": "ipython",
    "version": 3
   },
   "file_extension": ".py",
   "mimetype": "text/x-python",
   "name": "python",
   "nbconvert_exporter": "python",
   "pygments_lexer": "ipython3",
   "version": "3.12.7"
  }
 },
 "nbformat": 4,
 "nbformat_minor": 5
}
