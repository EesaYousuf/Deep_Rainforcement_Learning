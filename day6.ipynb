{
 "cells": [
  {
   "cell_type": "markdown",
   "id": "d212a470",
   "metadata": {},
   "source": [
    "Example 1: Deterministic Transition Function\n",
    "\n",
    " the next state is fixed (probability = 1)."
   ]
  },
  {
   "cell_type": "code",
   "execution_count": null,
   "id": "3e0128c4",
   "metadata": {
    "vscode": {
     "languageId": "plaintext"
    }
   },
   "outputs": [],
   "source": []
  }
 ],
 "metadata": {
  "language_info": {
   "name": "python"
  }
 },
 "nbformat": 4,
 "nbformat_minor": 5
}
