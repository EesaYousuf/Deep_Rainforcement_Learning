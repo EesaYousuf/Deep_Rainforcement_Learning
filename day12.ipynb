{
 "cells": [
  {
   "cell_type": "code",
   "execution_count": null,
   "id": "4e2b92fa",
   "metadata": {
    "vscode": {
     "languageId": "plaintext"
    }
   },
   "outputs": [],
   "source": [
    "# dqn_cartpole.py\n",
    "import random\n",
    "import math\n",
    "import collections\n",
    "from dataclasses import dataclass\n",
    "\n",
    "import numpy as np\n",
    "import torch\n",
    "import torch.nn as nn\n",
    "import torch.optim as optim\n",
    "\n",
    "# gym vs gymnasium compatibility:\n",
    "try:\n",
    "    import gymnasium as gym\n",
    "except Exception:\n",
    "    import gym\n",
    "\n",
    "# -----------------------\n",
    "# Config / Hyperparams\n",
    "# -----------------------\n",
    "@dataclass\n",
    "class Config:\n",
    "    env_name: str = \"CartPole-v1\"\n",
    "    seed: int = 0\n",
    "    gamma: float = 0.99\n",
    "    lr: float = 1e-3\n",
    "    batch_size: int = 64\n",
    "    replay_size: int = 10000\n",
    "    min_replay_size: int = 1000\n",
    "    eps_start: float = 1.0\n",
    "    eps_end: float = 0.02\n",
    "    eps_decay: int = 10000  # number of steps to decay epsilon\n",
    "    target_update_freq: int = 1000  # steps\n",
    "    max_steps: int = 200000\n",
    "    eval_every: int = 5000\n",
    "    device: str = \"cuda\" if torch.cuda.is_available() else \"cpu\"\n",
    "    hidden_size: int = 128\n",
    "\n",
    "cfg = Config()\n",
    "\n",
    "# -----------------------\n",
    "# Utilities\n",
    "# -----------------------\n",
    "def set_seed(env, seed):\n",
    "    random.seed(seed)\n",
    "    np.random.seed(seed)\n",
    "    torch.manual_seed(seed)_\n"
   ]
  }
 ],
 "metadata": {
  "language_info": {
   "name": "python"
  }
 },
 "nbformat": 4,
 "nbformat_minor": 5
}
