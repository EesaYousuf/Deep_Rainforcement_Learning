{
 "cells": [
  {
   "cell_type": "markdown",
   "id": "0766f5df",
   "metadata": {},
   "source": [
    "A) Utility: compute discounted returns (Monte Carlo-style)"
   ]
  },
  {
   "cell_type": "code",
   "execution_count": 1,
   "id": "ffae15d3",
   "metadata": {},
   "outputs": [],
   "source": [
    "import numpy as np\n",
    "\n",
    "def discounted_return(rewards, gamma=0.99):\n",
    "    \"\"\"\n",
    "    rewards: list/array of rewards r_t, r_{t+1}, ...\n",
    "    returns G_0 for the whole trajectory.\n",
    "    \"\"\"\n",
    "    G = 0.0\n",
    "    power = 1.0\n",
    "    for r in rewards:\n",
    "        G += power * r\n",
    "        power *= gamma\n",
    "    return G"
   ]
  },
  {
   "cell_type": "code",
   "execution_count": 2,
   "id": "febc346a",
   "metadata": {},
   "outputs": [
    {
     "name": "stdout",
     "output_type": "stream",
     "text": [
      "G0: 2.1222000000000003\n",
      "G_t: [2.1222000000000003, 2.358, 2.62, 1.8, 2.0]\n"
     ]
    }
   ],
   "source": [
    "def discounted_returns_per_timestep(rewards, gamma=0.99):\n",
    "    \"\"\"\n",
    "    For a single episode's rewards, compute G_t for every t (from the end).\n",
    "    Useful for Monte Carlo policy evaluation.\n",
    "    \"\"\"\n",
    "    G = 0.0\n",
    "    out = []\n",
    "    for r in reversed(rewards):\n",
    "        G = r + gamma * G\n",
    "        out.append(G)\n",
    "    return list(reversed(out))\n",
    "\n",
    "# demo\n",
    "if __name__ == \"__main__\":\n",
    "    traj_rewards = [0, 0, 1, 0, 2]\n",
    "    print(\"G0:\", discounted_return(traj_rewards, gamma=0.9))\n",
    "    print(\"G_t:\", discounted_returns_per_timestep(traj_rewards, gamma=0.9))\n"
   ]
  }
 ],
 "metadata": {
  "kernelspec": {
   "display_name": "base",
   "language": "python",
   "name": "python3"
  },
  "language_info": {
   "codemirror_mode": {
    "name": "ipython",
    "version": 3
   },
   "file_extension": ".py",
   "mimetype": "text/x-python",
   "name": "python",
   "nbconvert_exporter": "python",
   "pygments_lexer": "ipython3",
   "version": "3.12.7"
  }
 },
 "nbformat": 4,
 "nbformat_minor": 5
}
