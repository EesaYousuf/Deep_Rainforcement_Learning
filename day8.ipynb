{
 "cells": [
  {
   "cell_type": "markdown",
   "id": "0766f5df",
   "metadata": {},
   "source": [
    "A) Utility: compute discounted returns (Monte Carlo-style)"
   ]
  },
  {
   "cell_type": "code",
   "execution_count": 1,
   "id": "ffae15d3",
   "metadata": {},
   "outputs": [],
   "source": [
    "import numpy as np\n",
    "\n",
    "def discounted_return(rewards, gamma=0.99):\n",
    "    \"\"\"\n",
    "    rewards: list/array of rewards r_t, r_{t+1}, ...\n",
    "    returns G_0 for the whole trajectory.\n",
    "    \"\"\"\n",
    "    G = 0.0\n",
    "    power = 1.0\n",
    "    for r in rewards:\n",
    "        G += power * r\n",
    "        power *= gamma\n",
    "    return G"
   ]
  },
  {
   "cell_type": "code",
   "execution_count": 2,
   "id": "febc346a",
   "metadata": {},
   "outputs": [
    {
     "name": "stdout",
     "output_type": "stream",
     "text": [
      "G0: 2.1222000000000003\n",
      "G_t: [2.1222000000000003, 2.358, 2.62, 1.8, 2.0]\n"
     ]
    }
   ],
   "source": [
    "def discounted_returns_per_timestep(rewards, gamma=0.99):\n",
    "    \"\"\"\n",
    "    For a single episode's rewards, compute G_t for every t (from the end).\n",
    "    Useful for Monte Carlo policy evaluation.\n",
    "    \"\"\"\n",
    "    G = 0.0\n",
    "    out = []\n",
    "    for r in reversed(rewards):\n",
    "        G = r + gamma * G\n",
    "        out.append(G)\n",
    "    return list(reversed(out))\n",
    "\n",
    "# demo\n",
    "if __name__ == \"__main__\":\n",
    "    traj_rewards = [0, 0, 1, 0, 2]\n",
    "    print(\"G0:\", discounted_return(traj_rewards, gamma=0.9))\n",
    "    print(\"G_t:\", discounted_returns_per_timestep(traj_rewards, gamma=0.9))\n"
   ]
  },
  {
   "cell_type": "markdown",
   "id": "5e4e2356",
   "metadata": {},
   "source": [
    "B) TD(0) policy evaluation (shows γ inside Bellman update)"
   ]
  },
  {
   "cell_type": "code",
   "execution_count": 5,
   "id": "9046f4f7",
   "metadata": {},
   "outputs": [],
   "source": [
    "import numpy as np\n",
    "from collections import defaultdict\n",
    "\n",
    "def td0_policy_evaluation(transitions, policy, gamma=0.99, alpha=0.1, episodes=5000):\n",
    "    \"\"\"\n",
    "    transitions[s][a] -> list of (prob, next_s, reward, done)\n",
    "    policy(s) -> action (deterministic for simplicity)\n",
    "    Returns state-value function V.\n",
    "    \"\"\"\n",
    "    V = defaultdict(float)\n",
    "    states = list(transitions.keys())\n",
    "\n",
    "    rng = np.random.default_rng(0)\n",
    "    for _ in range(episodes):\n",
    "        # start from a random non-terminal state\n",
    "        s = rng.choice(states)\n",
    "        # simple rollout until termination or length cap\n",
    "        for _ in range(100):\n",
    "            a = policy(s)\n",
    "            # sample next transition according to dynamics\n",
    "            probs, next_states, rewards, dones = zip(*transitions[s][a])\n",
    "            idx = rng.choice(len(probs), p=np.array(probs))\n",
    "            s_next, r, done = next_states[idx], rewards[idx], dones[idx]\n",
    "\n",
    "            # TD(0) update: V(s) <- V(s) + α [ r + γ V(s') - V(s) ]\n",
    "            target = r + (0 if done else gamma * V[s_next])\n",
    "            V[s] += alpha * (target - V[s])\n",
    "\n",
    "            s = s_next\n",
    "            if done: break\n",
    "    return V\n"
   ]
  },
  {
   "cell_type": "markdown",
   "id": "ef2b7721",
   "metadata": {},
   "source": [
    "C) Q-learning on a tiny chain (see how γ shapes behavior)\n",
    "\n",
    "Environment: states 0..4 on a line. 0 and 4 are terminal. Reward +1 at state 4, −1 at state 0, 0 otherwise. Actions: left/right."
   ]
  },
  {
   "cell_type": "code",
   "execution_count": 6,
   "id": "97c1eb21",
   "metadata": {},
   "outputs": [
    {
     "name": "stdout",
     "output_type": "stream",
     "text": [
      "\n",
      "Gamma=0.5\n",
      "State values: [0.   0.25 0.5  1.   0.  ]\n",
      "Greedy policy (0=left,1=right): [0 1 1 1 0]\n",
      "\n",
      "Gamma=0.9\n",
      "State values: [0.   0.81 0.9  1.   0.  ]\n",
      "Greedy policy (0=left,1=right): [0 1 1 1 0]\n",
      "\n",
      "Gamma=0.99\n",
      "State values: [0.   0.98 0.99 1.   0.  ]\n",
      "Greedy policy (0=left,1=right): [0 1 1 1 0]\n"
     ]
    }
   ],
   "source": [
    "import numpy as np\n",
    "\n",
    "class ChainEnv:\n",
    "    def __init__(self, n=5):\n",
    "        self.n = n\n",
    "        self.start = 2  # middle\n",
    "        self.reset()\n",
    "\n",
    "    def reset(self):\n",
    "        self.s = self.start\n",
    "        return self.s\n",
    "\n",
    "    def step(self, a):\n",
    "        # a: 0=left, 1=right\n",
    "        if self.s == 0:\n",
    "            return 0, 0.0, True, {}\n",
    "        if self.s == self.n - 1:\n",
    "            return self.n - 1, 0.0, True, {}\n",
    "\n",
    "        self.s = max(0, min(self.n - 1, self.s + (1 if a == 1 else -1)))\n",
    "\n",
    "        done = (self.s == 0) or (self.s == self.n - 1)\n",
    "        reward = 0.0\n",
    "        if self.s == self.n - 1:\n",
    "            reward = 1.0\n",
    "        elif self.s == 0:\n",
    "            reward = -1.0\n",
    "        return self.s, reward, done, {}\n",
    "\n",
    "def q_learning_chain(gamma=0.9, alpha=0.1, eps=0.1, episodes=2000, n=5, seed=0):\n",
    "    rng = np.random.default_rng(seed)\n",
    "    env = ChainEnv(n=n)\n",
    "    Q = np.zeros((n, 2))  # actions: left(0), right(1)\n",
    "\n",
    "    def eps_greedy(s):\n",
    "        if rng.random() < eps:\n",
    "            return rng.integers(2)\n",
    "        return int(np.argmax(Q[s]))\n",
    "\n",
    "    for _ in range(episodes):\n",
    "        s = env.reset()\n",
    "        for _ in range(50):\n",
    "            a = eps_greedy(s)\n",
    "            s2, r, done, _ = env.step(a)\n",
    "\n",
    "            # Q-learning update:\n",
    "            # Q(s,a) ← Q(s,a) + α [ r + γ max_a' Q(s',a') − Q(s,a) ]\n",
    "            best_next = 0.0 if done else np.max(Q[s2])\n",
    "            td_target = r + gamma * best_next\n",
    "            Q[s, a] += alpha * (td_target - Q[s, a])\n",
    "\n",
    "            s = s2\n",
    "            if done: break\n",
    "\n",
    "    V = np.max(Q, axis=1)\n",
    "    Pi = np.argmax(Q, axis=1)\n",
    "    return Q, V, Pi\n",
    "\n",
    "if __name__ == \"__main__\":\n",
    "    for g in [0.5, 0.9, 0.99]:\n",
    "        Q, V, Pi = q_learning_chain(gamma=g)\n",
    "        print(f\"\\nGamma={g}\")\n",
    "        print(\"State values:\", np.round(V, 3))\n",
    "        print(\"Greedy policy (0=left,1=right):\", Pi)\n"
   ]
  }
 ],
 "metadata": {
  "kernelspec": {
   "display_name": "base",
   "language": "python",
   "name": "python3"
  },
  "language_info": {
   "codemirror_mode": {
    "name": "ipython",
    "version": 3
   },
   "file_extension": ".py",
   "mimetype": "text/x-python",
   "name": "python",
   "nbconvert_exporter": "python",
   "pygments_lexer": "ipython3",
   "version": "3.12.7"
  }
 },
 "nbformat": 4,
 "nbformat_minor": 5
}
