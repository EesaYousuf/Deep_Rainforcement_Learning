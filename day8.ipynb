{
 "cells": [
  {
   "cell_type": "markdown",
   "id": "0766f5df",
   "metadata": {},
   "source": [
    "A) Utility: compute discounted returns (Monte Carlo-style)"
   ]
  },
  {
   "cell_type": "code",
   "execution_count": 1,
   "id": "ffae15d3",
   "metadata": {},
   "outputs": [],
   "source": [
    "import numpy as np\n",
    "\n",
    "def discounted_return(rewards, gamma=0.99):\n",
    "    \"\"\"\n",
    "    rewards: list/array of rewards r_t, r_{t+1}, ...\n",
    "    returns G_0 for the whole trajectory.\n",
    "    \"\"\"\n",
    "    G = 0.0\n",
    "    power = 1.0\n",
    "    for r in rewards:\n",
    "        G += power * r\n",
    "        power *= gamma\n",
    "    return G"
   ]
  },
  {
   "cell_type": "code",
   "execution_count": 2,
   "id": "febc346a",
   "metadata": {},
   "outputs": [
    {
     "name": "stdout",
     "output_type": "stream",
     "text": [
      "G0: 2.1222000000000003\n",
      "G_t: [2.1222000000000003, 2.358, 2.62, 1.8, 2.0]\n"
     ]
    }
   ],
   "source": [
    "def discounted_returns_per_timestep(rewards, gamma=0.99):\n",
    "    \"\"\"\n",
    "    For a single episode's rewards, compute G_t for every t (from the end).\n",
    "    Useful for Monte Carlo policy evaluation.\n",
    "    \"\"\"\n",
    "    G = 0.0\n",
    "    out = []\n",
    "    for r in reversed(rewards):\n",
    "        G = r + gamma * G\n",
    "        out.append(G)\n",
    "    return list(reversed(out))\n",
    "\n",
    "# demo\n",
    "if __name__ == \"__main__\":\n",
    "    traj_rewards = [0, 0, 1, 0, 2]\n",
    "    print(\"G0:\", discounted_return(traj_rewards, gamma=0.9))\n",
    "    print(\"G_t:\", discounted_returns_per_timestep(traj_rewards, gamma=0.9))\n"
   ]
  },
  {
   "cell_type": "markdown",
   "id": "5e4e2356",
   "metadata": {},
   "source": [
    "B) TD(0) policy evaluation (shows γ inside Bellman update)"
   ]
  },
  {
   "cell_type": "code",
   "execution_count": 5,
   "id": "9046f4f7",
   "metadata": {},
   "outputs": [],
   "source": [
    "import numpy as np\n",
    "from collections import defaultdict\n",
    "\n",
    "def td0_policy_evaluation(transitions, policy, gamma=0.99, alpha=0.1, episodes=5000):\n",
    "    \"\"\"\n",
    "    transitions[s][a] -> list of (prob, next_s, reward, done)\n",
    "    policy(s) -> action (deterministic for simplicity)\n",
    "    Returns state-value function V.\n",
    "    \"\"\"\n",
    "    V = defaultdict(float)\n",
    "    states = list(transitions.keys())\n",
    "\n",
    "    rng = np.random.default_rng(0)\n",
    "    for _ in range(episodes):\n",
    "        # start from a random non-terminal state\n",
    "        s = rng.choice(states)\n",
    "        # simple rollout until termination or length cap\n",
    "        for _ in range(100):\n",
    "            a = policy(s)\n",
    "            # sample next transition according to dynamics\n",
    "            probs, next_states, rewards, dones = zip(*transitions[s][a])\n",
    "            idx = rng.choice(len(probs), p=np.array(probs))\n",
    "            s_next, r, done = next_states[idx], rewards[idx], dones[idx]\n",
    "\n",
    "            # TD(0) update: V(s) <- V(s) + α [ r + γ V(s') - V(s) ]\n",
    "            target = r + (0 if done else gamma * V[s_next])\n",
    "            V[s] += alpha * (target - V[s])\n",
    "\n",
    "            s = s_next\n",
    "            if done: break\n",
    "    return V\n"
   ]
  }
 ],
 "metadata": {
  "kernelspec": {
   "display_name": "base",
   "language": "python",
   "name": "python3"
  },
  "language_info": {
   "codemirror_mode": {
    "name": "ipython",
    "version": 3
   },
   "file_extension": ".py",
   "mimetype": "text/x-python",
   "name": "python",
   "nbconvert_exporter": "python",
   "pygments_lexer": "ipython3",
   "version": "3.12.7"
  }
 },
 "nbformat": 4,
 "nbformat_minor": 5
}
