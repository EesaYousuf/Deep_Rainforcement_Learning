{
 "cells": [
  {
   "cell_type": "markdown",
   "id": "0766f5df",
   "metadata": {},
   "source": [
    "A) Utility: compute discounted returns (Monte Carlo-style)"
   ]
  },
  {
   "cell_type": "code",
   "execution_count": null,
   "id": "ffae15d3",
   "metadata": {},
   "outputs": [],
   "source": [
    "import numpy as np\n",
    "\n",
    "def discounted_return(rewards, gamma=0.99):\n",
    "    \"\"\"\n",
    "    rewards: list/array of rewards r_t, r_{t+1}, ...\n",
    "    returns G_0 for the whole trajectory.\n",
    "    \"\"\"\n",
    "    G = 0.0\n",
    "    power = 1.0\n",
    "    for r in rewards:\n",
    "        G += power * r\n",
    "        power *= gamma\n",
    "    return G"
   ]
  }
 ],
 "metadata": {
  "kernelspec": {
   "display_name": "base",
   "language": "python",
   "name": "python3"
  },
  "language_info": {
   "name": "python",
   "version": "3.12.7"
  }
 },
 "nbformat": 4,
 "nbformat_minor": 5
}
