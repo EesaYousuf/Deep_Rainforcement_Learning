{
 "cells": [
  {
   "cell_type": "code",
   "execution_count": 1,
   "id": "5f4d31d0",
   "metadata": {},
   "outputs": [],
   "source": [
    "import random"
   ]
  },
  {
   "cell_type": "code",
   "execution_count": 2,
   "id": "93c522dd",
   "metadata": {},
   "outputs": [],
   "source": [
    "class SimpleEnvironment:\n",
    "    def __init__(self):\n",
    "        self.state = 0\n",
    "\n",
    "    def step(self, action):\n",
    "        if action == \"right\":\n",
    "            self.state += 1\n",
    "            reward = 1\n",
    "        else:\n",
    "            self.state -= 1\n",
    "            reward = -1\n",
    "        return self.state, reward"
   ]
  },
  {
   "cell_type": "code",
   "execution_count": 3,
   "id": "d5b55722",
   "metadata": {},
   "outputs": [],
   "source": [
    "env = SimpleEnvironment()\n",
    "actions = [\"left\", \"right\"]"
   ]
  },
  {
   "cell_type": "code",
   "execution_count": 4,
   "id": "a994fd86",
   "metadata": {},
   "outputs": [
    {
     "name": "stdout",
     "output_type": "stream",
     "text": [
      "Action: left, State: -1, Reward: -1\n",
      "Action: left, State: -2, Reward: -1\n",
      "Action: left, State: -3, Reward: -1\n",
      "Action: left, State: -4, Reward: -1\n",
      "Action: left, State: -5, Reward: -1\n"
     ]
    }
   ],
   "source": [
    "for _ in range(5):\n",
    "    action = random.choice(actions)\n",
    "    state, reward = env.step(action)\n",
    "    print(f\"Action: {action}, State: {state}, Reward: {reward}\")"
   ]
  },
  {
   "cell_type": "code",
   "execution_count": 5,
   "id": "34ef1e5e",
   "metadata": {},
   "outputs": [
    {
     "name": "stdout",
     "output_type": "stream",
     "text": [
      "Current State: (2, 3)\n"
     ]
    }
   ],
   "source": [
    "state = (2, 3)  # Robot is at row=2, column=3 in a grid\n",
    "print(\"Current State:\", state)"
   ]
  }
 ],
 "metadata": {
  "kernelspec": {
   "display_name": "base",
   "language": "python",
   "name": "python3"
  },
  "language_info": {
   "codemirror_mode": {
    "name": "ipython",
    "version": 3
   },
   "file_extension": ".py",
   "mimetype": "text/x-python",
   "name": "python",
   "nbconvert_exporter": "python",
   "pygments_lexer": "ipython3",
   "version": "3.12.7"
  }
 },
 "nbformat": 4,
 "nbformat_minor": 5
}
