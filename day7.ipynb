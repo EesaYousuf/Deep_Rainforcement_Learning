{
 "cells": [
  {
   "cell_type": "markdown",
   "id": "bae4b73b",
   "metadata": {},
   "source": [
    "Deterministic Gridworld Transition Function"
   ]
  },
  {
   "cell_type": "code",
   "execution_count": 1,
   "id": "a2ba6a58",
   "metadata": {},
   "outputs": [],
   "source": [
    "def transition_function_gridworld(state, action, grid_size=(5, 5)):\n",
    "    \"\"\"\n",
    "    Deterministic transition function for Gridworld.\n",
    "    state: (x, y) tuple for current position\n",
    "    action: \"up\", \"down\", \"left\", \"right\"\n",
    "    grid_size: (width, height) of grid\n",
    "    \"\"\"\n",
    "    x, y = state\n",
    "    width, height = grid_size\n",
    "\n",
    "    if action == \"up\":\n",
    "        y = max(0, y - 1)\n",
    "    elif action == \"down\":\n",
    "        y = min(height - 1, y + 1)\n",
    "    elif action == \"left\":\n",
    "      x = max(0, x - 1)\n",
    "    elif action == \"right\":\n",
    "        x = min(width - 1, x + 1)\n",
    "\n",
    "    return (x, y)\n",
    "\n"
   ]
  },
  {
   "cell_type": "code",
   "execution_count": 2,
   "id": "5f4c4485",
   "metadata": {},
   "outputs": [
    {
     "name": "stdout",
     "output_type": "stream",
     "text": [
      "Current State: (2, 2)\n",
      "Move Up -> (2, 1)\n",
      "Move Right -> (3, 2)\n",
      "Move Left -> (1, 2)\n"
     ]
    }
   ],
   "source": [
    "\n",
    "# Example\n",
    "state = (2, 2)\n",
    "print(\"Current State:\", state)\n",
    "print(\"Move Up ->\", transition_function_gridworld(state, \"up\"))\n",
    "print(\"Move Right ->\", transition_function_gridworld(state, \"right\"))\n",
    "print(\"Move Left ->\", transition_function_gridworld(state, \"left\"))"
   ]
  },
  {
   "cell_type": "markdown",
   "id": "ba45bd7b",
   "metadata": {},
   "source": [
    "Stochastic Gridworld Transition Function"
   ]
  },
  {
   "cell_type": "code",
   "execution_count": 3,
   "id": "e8ebc92b",
   "metadata": {},
   "outputs": [
    {
     "name": "stdout",
     "output_type": "stream",
     "text": [
      "Current State: (2, 2)\n",
      "Action 'up' Run 1 -> Next State: (2, 1)\n",
      "Action 'up' Run 2 -> Next State: (1, 2)\n",
      "Action 'up' Run 3 -> Next State: (2, 1)\n",
      "Action 'up' Run 4 -> Next State: (2, 1)\n",
      "Action 'up' Run 5 -> Next State: (2, 1)\n"
     ]
    }
   ],
   "source": [
    "import random\n",
    "\n",
    "def transition_function_gridworld_stochastic(state, action, grid_size=(5, 5)):\n",
    "    \"\"\"\n",
    "    Stochastic transition function for Gridworld.\n",
    "    - 80% chance: move in intended direction\n",
    "    - 10% chance: move left of intended\n",
    "    - 10% chance: move right of intended\n",
    "    \"\"\"\n",
    "    # Define direction mapping\n",
    "    directions = {\n",
    "        \"up\": (0, -1),\n",
    "        \"down\": (0, 1),\n",
    "        \"left\": (-1, 0),\n",
    "        \"right\": (1, 0),\n",
    "    }\n",
    "\n",
    "    # Sideways slip mapping (left/right of intended action)\n",
    "    sideways = {\n",
    "        \"up\": [\"left\", \"right\"],\n",
    "        \"down\": [\"left\", \"right\"],\n",
    "        \"left\": [\"up\", \"down\"],\n",
    "        \"right\": [\"up\", \"down\"],\n",
    "    }\n",
    "\n",
    "    width, height = grid_size\n",
    "    x, y = state\n",
    "\n",
    "    prob = random.random()\n",
    "\n",
    "    if prob < 0.8:  # intended move\n",
    "        chosen_action = action\n",
    "    elif prob < 0.9:  # slip to one side\n",
    "        chosen_action = sideways[action][0]\n",
    "    else:  # slip to the other side\n",
    "        chosen_action = sideways[action][1]\n",
    "\n",
    "    dx, dy = directions[chosen_action]\n",
    "    new_x, new_y = x + dx, y + dy\n",
    "\n",
    "    # Stay inside grid boundaries\n",
    "    new_x = min(max(0, new_x), width - 1)\n",
    "    new_y = min(max(0, new_y), height - 1)\n",
    "\n",
    "    return (new_x, new_y)\n",
    "\n",
    "\n",
    "# Example Run\n",
    "state = (2, 2)\n",
    "print(\"Current State:\", state)\n",
    "for i in range(5):\n",
    "    print(f\"Action 'up' Run {i+1} -> Next State:\", transition_function_gridworld_stochastic(state, \"up\"))\n"
   ]
  }
 ],
 "metadata": {
  "kernelspec": {
   "display_name": "base",
   "language": "python",
   "name": "python3"
  },
  "language_info": {
   "codemirror_mode": {
    "name": "ipython",
    "version": 3
   },
   "file_extension": ".py",
   "mimetype": "text/x-python",
   "name": "python",
   "nbconvert_exporter": "python",
   "pygments_lexer": "ipython3",
   "version": "3.12.7"
  }
 },
 "nbformat": 4,
 "nbformat_minor": 5
}
