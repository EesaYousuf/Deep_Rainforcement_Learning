{
 "cells": [
  {
   "cell_type": "markdown",
   "id": "bae4b73b",
   "metadata": {},
   "source": [
    "Deterministic Gridworld Transition Function"
   ]
  },
  {
   "cell_type": "code",
   "execution_count": null,
   "id": "a2ba6a58",
   "metadata": {},
   "outputs": [],
   "source": [
    "def transition_function_gridworld(state, action, grid_size=(5, 5)):\n",
    "    \"\"\"\n",
    "    Deterministic transition function for Gridworld.\n",
    "    state: (x, y) tuple for current position\n",
    "    action: \"up\", \"down\", \"left\", \"right\"\n",
    "    grid_size: (width, height) of grid\n",
    "    \"\"\"\n",
    "    x, y = state\n",
    "    width, height = grid_size\n",
    "\n",
    "    if action == \"up\":\n",
    "        y = max(0, y - 1)\n",
    "    elif action == \"down\":\n",
    "        y = min(height - 1, y + 1)\n",
    "    elif action == \"left\":\n",
    "      x = max(0, x - 1)\n",
    "    elif action == \"right\":\n",
    "        x = min(width - 1, x + 1)\n",
    "\n",
    "    return (x, y)\n",
    "\n"
   ]
  }
 ],
 "metadata": {
  "kernelspec": {
   "display_name": "base",
   "language": "python",
   "name": "python3"
  },
  "language_info": {
   "name": "python",
   "version": "3.12.7"
  }
 },
 "nbformat": 4,
 "nbformat_minor": 5
}
