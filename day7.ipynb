{
 "cells": [
  {
   "cell_type": "markdown",
   "id": "bae4b73b",
   "metadata": {},
   "source": [
    "Deterministic Gridworld Transition Function"
   ]
  }
 ],
 "metadata": {
  "language_info": {
   "name": "python"
  }
 },
 "nbformat": 4,
 "nbformat_minor": 5
}
