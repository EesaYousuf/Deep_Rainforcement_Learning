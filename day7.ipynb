{
 "cells": [
  {
   "cell_type": "markdown",
   "id": "bae4b73b",
   "metadata": {},
   "source": [
    "Deterministic Gridworld Transition Function"
   ]
  },
  {
   "cell_type": "code",
   "execution_count": 1,
   "id": "a2ba6a58",
   "metadata": {},
   "outputs": [],
   "source": [
    "def transition_function_gridworld(state, action, grid_size=(5, 5)):\n",
    "    \"\"\"\n",
    "    Deterministic transition function for Gridworld.\n",
    "    state: (x, y) tuple for current position\n",
    "    action: \"up\", \"down\", \"left\", \"right\"\n",
    "    grid_size: (width, height) of grid\n",
    "    \"\"\"\n",
    "    x, y = state\n",
    "    width, height = grid_size\n",
    "\n",
    "    if action == \"up\":\n",
    "        y = max(0, y - 1)\n",
    "    elif action == \"down\":\n",
    "        y = min(height - 1, y + 1)\n",
    "    elif action == \"left\":\n",
    "      x = max(0, x - 1)\n",
    "    elif action == \"right\":\n",
    "        x = min(width - 1, x + 1)\n",
    "\n",
    "    return (x, y)\n",
    "\n"
   ]
  },
  {
   "cell_type": "code",
   "execution_count": 2,
   "id": "5f4c4485",
   "metadata": {},
   "outputs": [
    {
     "name": "stdout",
     "output_type": "stream",
     "text": [
      "Current State: (2, 2)\n",
      "Move Up -> (2, 1)\n",
      "Move Right -> (3, 2)\n",
      "Move Left -> (1, 2)\n"
     ]
    }
   ],
   "source": [
    "\n",
    "# Example\n",
    "state = (2, 2)\n",
    "print(\"Current State:\", state)\n",
    "print(\"Move Up ->\", transition_function_gridworld(state, \"up\"))\n",
    "print(\"Move Right ->\", transition_function_gridworld(state, \"right\"))\n",
    "print(\"Move Left ->\", transition_function_gridworld(state, \"left\"))"
   ]
  }
 ],
 "metadata": {
  "kernelspec": {
   "display_name": "base",
   "language": "python",
   "name": "python3"
  },
  "language_info": {
   "codemirror_mode": {
    "name": "ipython",
    "version": 3
   },
   "file_extension": ".py",
   "mimetype": "text/x-python",
   "name": "python",
   "nbconvert_exporter": "python",
   "pygments_lexer": "ipython3",
   "version": "3.12.7"
  }
 },
 "nbformat": 4,
 "nbformat_minor": 5
}
